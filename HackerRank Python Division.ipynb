{
 "cells": [
  {
   "cell_type": "markdown",
   "id": "1cb5809f",
   "metadata": {},
   "source": [
    "Task\n",
    "The provided code stub reads two integers,  and , from STDIN.\n",
    "\n",
    "Add logic to print two lines. The first line should contain the result of integer division,  // . The second line should contain the result of float division,  / .\n",
    "\n",
    "No rounding or formatting is necessary.\n",
    "\n",
    "--Example\n",
    "\n",
    "\n",
    "The result of the integer division .\n",
    "The result of the float division is .\n",
    "Print:\n",
    "\n",
    "0\n",
    "0.6\n",
    "\n",
    "--Input Format\n",
    "\n",
    "The first line contains the first integer, .\n",
    "The second line contains the second integer, .\n",
    "\n",
    "--Output Format\n",
    "\n",
    "Print the two lines as described above.\n",
    "\n",
    "--Sample Input 0\n"
   ]
  },
  {
   "cell_type": "code",
   "execution_count": 1,
   "id": "d46e3a7f",
   "metadata": {},
   "outputs": [
    {
     "name": "stdout",
     "output_type": "stream",
     "text": [
      "5\n",
      "2\n",
      "2\n",
      "2.5\n"
     ]
    }
   ],
   "source": [
    "if __name__ == '__main__':\n",
    "    a = int(input())\n",
    "    b = int(input())\n",
    "    \n",
    "    print(a // b)\n",
    "    print(a / b)\n",
    "    "
   ]
  }
 ],
 "metadata": {
  "kernelspec": {
   "display_name": "Python 3 (ipykernel)",
   "language": "python",
   "name": "python3"
  },
  "language_info": {
   "codemirror_mode": {
    "name": "ipython",
    "version": 3
   },
   "file_extension": ".py",
   "mimetype": "text/x-python",
   "name": "python",
   "nbconvert_exporter": "python",
   "pygments_lexer": "ipython3",
   "version": "3.9.12"
  }
 },
 "nbformat": 4,
 "nbformat_minor": 5
}
