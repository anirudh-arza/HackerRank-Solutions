{
 "cells": [
  {
   "cell_type": "markdown",
   "id": "ae043212",
   "metadata": {},
   "source": [
    "Task\n",
    "The provided code stub reads two integers from STDIN, a and b. Add code to print three lines where:\n",
    "\n",
    "The first line contains the sum of the two numbers.\n",
    "The second line contains the difference of the two numbers (first - second).\n",
    "The third line contains the product of the two numbers.\n",
    "\n",
    "\n",
    "##Example\n",
    "\n",
    "\n",
    "##Print the following:\n",
    "\n",
    "8\n",
    "-2\n",
    "15\n",
    "\n",
    "##Input Format\n",
    "\n",
    "The first line contains the first integer, .\n",
    "The second line contains the second integer, .\n",
    "\n",
    "##Constraints\n",
    "\n",
    "\n",
    "\n",
    "##Output Format\n",
    "\n",
    "--Print the three lines as explained above.\n",
    "\n",
    "--Sample Input 0\n",
    "\n",
    "3\n",
    "2\n",
    "\n",
    "--Sample Output 0\n",
    "\n",
    "5\n",
    "1\n",
    "6\n",
    "\n",
    "--Explanation 0\n",
    "\n",
    "\n",
    "\n",
    "\n"
   ]
  },
  {
   "cell_type": "code",
   "execution_count": 3,
   "id": "83a4db95",
   "metadata": {},
   "outputs": [
    {
     "name": "stdout",
     "output_type": "stream",
     "text": [
      "1\n",
      "2\n",
      "3\n",
      "-1\n",
      "2\n"
     ]
    }
   ],
   "source": [
    "if __name__ == '__main__':\n",
    "    a = int(input())\n",
    "    b = int(input())\n",
    "\n",
    "    print(a + b)\n",
    "    print(a - b)\n",
    "    print(a * b)\n",
    "    \n",
    "    \n",
    "    \n",
    "    \n",
    "    \n",
    "    \n",
    "    \n",
    "    \n"
   ]
  }
 ],
 "metadata": {
  "kernelspec": {
   "display_name": "Python 3 (ipykernel)",
   "language": "python",
   "name": "python3"
  },
  "language_info": {
   "codemirror_mode": {
    "name": "ipython",
    "version": 3
   },
   "file_extension": ".py",
   "mimetype": "text/x-python",
   "name": "python",
   "nbconvert_exporter": "python",
   "pygments_lexer": "ipython3",
   "version": "3.9.12"
  }
 },
 "nbformat": 4,
 "nbformat_minor": 5
}
